{
 "cells": [
  {
   "cell_type": "code",
   "execution_count": 1,
   "metadata": {},
   "outputs": [
    {
     "name": "stdout",
     "output_type": "stream",
     "text": [
      "Wall time: 52.9 ms\n"
     ]
    }
   ],
   "source": [
    "%%time\n",
    "%load_ext autoreload\n",
    "%autoreload 2"
   ]
  },
  {
   "cell_type": "code",
   "execution_count": 2,
   "metadata": {},
   "outputs": [],
   "source": [
    "import numpy as np\n",
    "import pandas as pd\n",
    "import requests"
   ]
  },
  {
   "cell_type": "code",
   "execution_count": 9,
   "metadata": {},
   "outputs": [
    {
     "data": {
      "text/html": [
       "<div>\n",
       "<style scoped>\n",
       "    .dataframe tbody tr th:only-of-type {\n",
       "        vertical-align: middle;\n",
       "    }\n",
       "\n",
       "    .dataframe tbody tr th {\n",
       "        vertical-align: top;\n",
       "    }\n",
       "\n",
       "    .dataframe thead th {\n",
       "        text-align: right;\n",
       "    }\n",
       "</style>\n",
       "<table border=\"1\" class=\"dataframe\">\n",
       "  <thead>\n",
       "    <tr style=\"text-align: right;\">\n",
       "      <th></th>\n",
       "      <th>Timestamp</th>\n",
       "      <th>Cod Moeda</th>\n",
       "      <th>Tipo</th>\n",
       "      <th>Moeda</th>\n",
       "      <th>Taxa Compra</th>\n",
       "      <th>Taxa Venda</th>\n",
       "      <th>Paridade Compra</th>\n",
       "      <th>Paridade Venda</th>\n",
       "    </tr>\n",
       "  </thead>\n",
       "  <tbody>\n",
       "    <tr>\n",
       "      <th>0</th>\n",
       "      <td>10/08/2020</td>\n",
       "      <td>5</td>\n",
       "      <td>A</td>\n",
       "      <td>AFN</td>\n",
       "      <td>0,07004000</td>\n",
       "      <td>0,07041000</td>\n",
       "      <td>76,60000000</td>\n",
       "      <td>77,00000000</td>\n",
       "    </tr>\n",
       "    <tr>\n",
       "      <th>1</th>\n",
       "      <td>10/08/2020</td>\n",
       "      <td>9</td>\n",
       "      <td>A</td>\n",
       "      <td>ETB</td>\n",
       "      <td>0,14930000</td>\n",
       "      <td>0,15220000</td>\n",
       "      <td>35,44690000</td>\n",
       "      <td>36,13150000</td>\n",
       "    </tr>\n",
       "    <tr>\n",
       "      <th>2</th>\n",
       "      <td>10/08/2020</td>\n",
       "      <td>15</td>\n",
       "      <td>A</td>\n",
       "      <td>THB</td>\n",
       "      <td>0,17330000</td>\n",
       "      <td>0,17340000</td>\n",
       "      <td>31,11000000</td>\n",
       "      <td>31,12000000</td>\n",
       "    </tr>\n",
       "    <tr>\n",
       "      <th>3</th>\n",
       "      <td>10/08/2020</td>\n",
       "      <td>20</td>\n",
       "      <td>A</td>\n",
       "      <td>PAB</td>\n",
       "      <td>5,39270000</td>\n",
       "      <td>5,39330000</td>\n",
       "      <td>1,00000000</td>\n",
       "      <td>1,00000000</td>\n",
       "    </tr>\n",
       "    <tr>\n",
       "      <th>4</th>\n",
       "      <td>10/08/2020</td>\n",
       "      <td>27</td>\n",
       "      <td>A</td>\n",
       "      <td>VES</td>\n",
       "      <td>0,00001940</td>\n",
       "      <td>0,00001940</td>\n",
       "      <td>277343,55110000</td>\n",
       "      <td>278038,64770000</td>\n",
       "    </tr>\n",
       "  </tbody>\n",
       "</table>\n",
       "</div>"
      ],
      "text/plain": [
       "    Timestamp  Cod Moeda Tipo Moeda Taxa Compra  Taxa Venda  Paridade Compra  \\\n",
       "0  10/08/2020          5    A   AFN  0,07004000  0,07041000      76,60000000   \n",
       "1  10/08/2020          9    A   ETB  0,14930000  0,15220000      35,44690000   \n",
       "2  10/08/2020         15    A   THB  0,17330000  0,17340000      31,11000000   \n",
       "3  10/08/2020         20    A   PAB  5,39270000  5,39330000       1,00000000   \n",
       "4  10/08/2020         27    A   VES  0,00001940  0,00001940  277343,55110000   \n",
       "\n",
       "    Paridade Venda  \n",
       "0      77,00000000  \n",
       "1      36,13150000  \n",
       "2      31,12000000  \n",
       "3       1,00000000  \n",
       "4  278038,64770000  "
      ]
     },
     "execution_count": 9,
     "metadata": {},
     "output_type": "execute_result"
    }
   ],
   "source": [
    "date = 20200810\n",
    "currencies_prices_url = f\"https://www4.bcb.gov.br/Download/fechamento/{date}.csv\"\n",
    "currencies_info_url = f\"https://www4.bcb.gov.br/Download/fechamento/{date}.csv\"\n",
    "\n",
    "cols = ['Timestamp', 'Cod Moeda', 'Tipo', 'Moeda', 'Taxa Compra', 'Taxa Venda', 'Paridade Compra', 'Paridade Venda'] \n",
    "df0 = pd.read_csv('20200810.csv', sep=\";\", names=cols) \n",
    "df0.head()"
   ]
  },
  {
   "cell_type": "code",
   "execution_count": null,
   "metadata": {},
   "outputs": [],
   "source": []
  }
 ],
 "metadata": {
  "kernelspec": {
   "display_name": "Python 3",
   "language": "python",
   "name": "python3"
  },
  "language_info": {
   "codemirror_mode": {
    "name": "ipython",
    "version": 3
   },
   "file_extension": ".py",
   "mimetype": "text/x-python",
   "name": "python",
   "nbconvert_exporter": "python",
   "pygments_lexer": "ipython3",
   "version": "3.8.5"
  }
 },
 "nbformat": 4,
 "nbformat_minor": 4
}
